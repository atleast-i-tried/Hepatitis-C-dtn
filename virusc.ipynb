{
 "cells": [
  {
   "cell_type": "code",
   "execution_count": 1,
   "metadata": {},
   "outputs": [],
   "source": [
    "import matplotlib.pyplot as plt \n",
    "import seaborn as sns \n",
    "import pandas as pd \n",
    "import numpy as np \n",
    "from sklearn.metrics import confusion_matrix, accuracy_score\n",
    "from sklearn.model_selection import train_test_split, GridSearchCV\n",
    "from sklearn.ensemble import RandomForestClassifier \n",
    "import joblib"
   ]
  },
  {
   "cell_type": "markdown",
   "metadata": {},
   "source": [
    "Load the dataset"
   ]
  },
  {
   "cell_type": "code",
   "execution_count": 2,
   "metadata": {},
   "outputs": [],
   "source": [
    "\n",
    "data = pd.read_csv(\"HepatitisCdata.csv\")"
   ]
  },
  {
   "cell_type": "markdown",
   "metadata": {},
   "source": [
    "Preprocess the data"
   ]
  },
  {
   "cell_type": "code",
   "execution_count": 3,
   "metadata": {},
   "outputs": [],
   "source": [
    "data.drop(\"Unnamed: 0\", axis=1, inplace=True)\n",
    "data['Category'] = data['Category'].map({'0=Blood Donor': 0, '0s=suspect Blood Donor': 0, \n",
    "                                         \"1=Hepatitis\": 1, \"2=Fibrosis\": 1, \"3=Cirrhosis\": 1})\n",
    "data['Sex'] = data['Sex'].map({'m': 1, 'f': 0})"
   ]
  },
  {
   "cell_type": "markdown",
   "metadata": {},
   "source": [
    "Rename columns for better readability"
   ]
  },
  {
   "cell_type": "code",
   "execution_count": 4,
   "metadata": {},
   "outputs": [],
   "source": [
    "new_cols = {'ALB': 'Albumin Blood Test (ALB) g/L',\n",
    "            'ALP': 'Alkaline Phosphatase Test (ALP) IU/L',\n",
    "            'ALT': 'Alanine Transaminase Test (ALT) U/L',\n",
    "            'AST': 'Aspartate Transaminase Test (AST) U/L',\n",
    "            'BIL': 'Bilirubin Blood Test (BIL) µmol/L',\n",
    "            'CHE': 'Cholinesterase (CHE) kU/L',\n",
    "            'CHOL': 'Cholesterol (CHOL) mmol/L',\n",
    "            'CREA': 'Creatinine Blood Test (CREA) µmol/L',\n",
    "            'GGT': 'Gamma-Glutamyl Transpeptidase Test (GGT) U/L',\n",
    "            'PROT': 'Protein Blood Test (PROT) g/L'}\n",
    "data.rename(columns=new_cols, inplace=True)"
   ]
  },
  {
   "cell_type": "markdown",
   "metadata": {},
   "source": [
    "Handle missing values"
   ]
  },
  {
   "cell_type": "code",
   "execution_count": 5,
   "metadata": {},
   "outputs": [],
   "source": [
    "data.fillna(data.median(), inplace=True)"
   ]
  },
  {
   "cell_type": "markdown",
   "metadata": {},
   "source": [
    "Split the data into features and target"
   ]
  },
  {
   "cell_type": "code",
   "execution_count": 6,
   "metadata": {},
   "outputs": [],
   "source": [
    "X = data.drop('Category', axis=1)\n",
    "y = data['Category']"
   ]
  },
  {
   "cell_type": "markdown",
   "metadata": {},
   "source": [
    "Split the data into training and testing sets"
   ]
  },
  {
   "cell_type": "code",
   "execution_count": 7,
   "metadata": {},
   "outputs": [],
   "source": [
    "X_train, X_test, y_train, y_test = train_test_split(X, y, test_size=0.2, random_state=42)"
   ]
  },
  {
   "cell_type": "markdown",
   "metadata": {},
   "source": [
    "Initialize the RandomForestClassifier"
   ]
  },
  {
   "cell_type": "code",
   "execution_count": 8,
   "metadata": {},
   "outputs": [
    {
     "name": "stdout",
     "output_type": "stream",
     "text": [
      "Fitting 3 folds for each of 432 candidates, totalling 1296 fits\n"
     ]
    }
   ],
   "source": [
    "rf_model = RandomForestClassifier()\n",
    "\n",
    "# Define the parameter grid for GridSearchCV\n",
    "param_grid_rf = {\n",
    "    'n_estimators': [100, 200, 300, 1000],\n",
    "    'max_depth': [40, 80, 90],\n",
    "    'max_features': [2, 3],\n",
    "    'min_samples_split': [8, 10, 12],\n",
    "    'min_samples_leaf': [3, 4, 5],\n",
    "    'criterion': ['gini', 'entropy'],\n",
    "    'bootstrap': [True]\n",
    "}\n",
    "\n",
    "# Initialize GridSearchCV\n",
    "rf_grid_model = GridSearchCV(rf_model, param_grid=param_grid_rf, cv=3, n_jobs=-1, verbose=2)\n",
    "\n",
    "# Fit the model\n",
    "rf_grid_model.fit(X_train, y_train)\n",
    "\n",
    "# Get the best model from GridSearchCV\n",
    "best_rf_model = rf_grid_model.best_estimator_"
   ]
  },
  {
   "cell_type": "markdown",
   "metadata": {},
   "source": [
    "Evaluate the model"
   ]
  },
  {
   "cell_type": "code",
   "execution_count": 9,
   "metadata": {},
   "outputs": [
    {
     "name": "stdout",
     "output_type": "stream",
     "text": [
      "Accuracy of the best RandomForest model: 93.50%\n"
     ]
    }
   ],
   "source": [
    "y_pred = best_rf_model.predict(X_test)\n",
    "accuracy = accuracy_score(y_test, y_pred)\n",
    "print(f\"Accuracy of the best RandomForest model: {accuracy * 100:.2f}%\")"
   ]
  },
  {
   "cell_type": "markdown",
   "metadata": {},
   "source": [
    "Plot the confusion matrix"
   ]
  },
  {
   "cell_type": "code",
   "execution_count": 10,
   "metadata": {},
   "outputs": [
    {
     "data": {
      "image/png": "[encoded data removed]",
      "text/plain": [
       "<Figure size 640x480 with 2 Axes>"
      ]
     },
     "metadata": {},
     "output_type": "display_data"
    }
   ],
   "source": [
    "conf_matrix = confusion_matrix(y_test, y_pred)\n",
    "sns.heatmap(conf_matrix, annot=True, cmap=\"viridis\")\n",
    "plt.title(\"Confusion Matrix for Best RandomForest Model\", fontsize=14)\n",
    "plt.show()"
   ]
  },
  {
   "cell_type": "markdown",
   "metadata": {},
   "source": [
    "Save the best model"
   ]
  },
  {
   "cell_type": "code",
   "execution_count": 11,
   "metadata": {},
   "outputs": [
    {
     "data": {
      "text/plain": [
       "['best_rf_model.pkl']"
      ]
     },
     "execution_count": 11,
     "metadata": {},
     "output_type": "execute_result"
    }
   ],
   "source": [
    "joblib.dump(best_rf_model, 'best_rf_model.pkl')"
   ]
  },
  {
   "cell_type": "markdown",
   "metadata": {},
   "source": [
    "TEST"
   ]
  },
  {
   "cell_type": "code",
   "execution_count": 12,
   "metadata": {},
   "outputs": [],
   "source": [
    "# Function to predict Hepatitis C status\n",
    "def predict_hepatitis_c(patient_data):\n",
    "    # Load the saved model\n",
    "    loaded_model = joblib.load('best_rf_model.pkl')\n",
    "    \n",
    "    # Convert input data to DataFrame\n",
    "    patient_df = pd.DataFrame([patient_data])\n",
    "    \n",
    "    # Make prediction\n",
    "    prediction = loaded_model.predict(patient_df)\n",
    "    \n",
    "    # Interpret the result\n",
    "    if prediction[0] == 1:\n",
    "        return \"The patient has Hepatitis C.\"\n",
    "    else:\n",
    "        return \"The patient does not have Hepatitis C.\""
   ]
  },
  {
   "cell_type": "code",
   "execution_count": 13,
   "metadata": {},
   "outputs": [
    {
     "name": "stdout",
     "output_type": "stream",
     "text": [
      "The patient does not have Hepatitis C.\n"
     ]
    }
   ],
   "source": [
    "# Example patient data for prediction\n",
    "patient_data = {\n",
    "    'Age': 45,\n",
    "    'Sex': 1,  # 1 for male, 0 for female\n",
    "    'Albumin Blood Test (ALB) g/L': 40,\n",
    "    'Alkaline Phosphatase Test (ALP) IU/L': 85,\n",
    "    'Alanine Transaminase Test (ALT) U/L': 20,\n",
    "    'Aspartate Transaminase Test (AST) U/L': 30,\n",
    "    'Bilirubin Blood Test (BIL) µmol/L': 15,\n",
    "    'Cholinesterase (CHE) kU/L': 7.5,\n",
    "    'Cholesterol (CHOL) mmol/L': 5.0,\n",
    "    'Creatinine Blood Test (CREA) µmol/L': 70,\n",
    "    'Gamma-Glutamyl Transpeptidase Test (GGT) U/L': 35,\n",
    "    'Protein Blood Test (PROT) g/L': 75\n",
    "}\n",
    "\n",
    "# Predict and print result\n",
    "result = predict_hepatitis_c(patient_data)\n",
    "print(result)"
   ]
  },
  {
   "cell_type": "code",
   "execution_count": 14,
   "metadata": {},
   "outputs": [
    {
     "name": "stdout",
     "output_type": "stream",
     "text": [
      "The patient has Hepatitis C.\n"
     ]
    }
   ],
   "source": [
    "patient_data_possible_hepatitis_c = {\n",
    "    'Age': 50,\n",
    "    'Sex': 0,  # 0 for female\n",
    "    'Albumin Blood Test (ALB) g/L': 35,  # Slightly lower than normal\n",
    "    'Alkaline Phosphatase Test (ALP) IU/L': 120,  # Higher than normal\n",
    "    'Alanine Transaminase Test (ALT) U/L': 80,  # Higher than normal\n",
    "    'Aspartate Transaminase Test (AST) U/L': 70,  # Higher than normal\n",
    "    'Bilirubin Blood Test (BIL) µmol/L': 25,  # Higher than normal\n",
    "    'Cholinesterase (CHE) kU/L': 6.0,  # Lower than normal\n",
    "    'Cholesterol (CHOL) mmol/L': 4.5,  # Lower than normal\n",
    "    'Creatinine Blood Test (CREA) µmol/L': 80,  # Slightly higher than normal\n",
    "    'Gamma-Glutamyl Transpeptidase Test (GGT) U/L': 100,  # Higher than normal\n",
    "    'Protein Blood Test (PROT) g/L': 65  # Slightly lower than normal\n",
    "}\n",
    "\n",
    "# Predict and print result\n",
    "result_possible_hepatitis_c = predict_hepatitis_c(patient_data_possible_hepatitis_c)\n",
    "print(result_possible_hepatitis_c)\n"
   ]
  }
 ],
 "metadata": {
  "kernelspec": {
   "display_name": "Python 3",
   "language": "python",
   "name": "python3"
  },
  "language_info": {
   "codemirror_mode": {
    "name": "ipython",
    "version": 3
   },
   "file_extension": ".py",
   "mimetype": "text/x-python",
   "name": "python",
   "nbconvert_exporter": "python",
   "pygments_lexer": "ipython3",
   "version": "3.12.4"
  }
 },
 "nbformat": 4,
 "nbformat_minor": 2
}
